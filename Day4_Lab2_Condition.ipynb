{
  "nbformat": 4,
  "nbformat_minor": 0,
  "metadata": {
    "colab": {
      "provenance": [],
      "collapsed_sections": []
    },
    "kernelspec": {
      "name": "python3",
      "display_name": "Python 3"
    },
    "language_info": {
      "name": "python"
    }
  },
  "cells": [
    {
      "cell_type": "markdown",
      "source": [],
      "metadata": {
        "id": "11_zt60n9zsl"
      }
    },
    {
      "cell_type": "code",
      "execution_count": 12,
      "metadata": {
        "colab": {
          "base_uri": "https://localhost:8080/"
        },
        "id": "6dvcZvG02RxD",
        "outputId": "893c35db-d992-4640-e0cd-06f36b609e80"
      },
      "outputs": [
        {
          "output_type": "stream",
          "name": "stdout",
          "text": [
            "I recommended it,It is good\n"
          ]
        }
      ],
      "source": [
        "movie = \"the movie\"\n",
        "rating = 3\n",
        "popularity = 72.65 \n",
        "if rating >= 4 and popularity > 80:\n",
        "        print(\"Highly Recommended\")\n",
        "elif rating >= 3 and popularity > 70:\n",
        "        print(\"I recommended it,It is good\")\n",
        "elif rating <=2 and popularity > 60:\n",
        "        print(\"You should check it out!\")\n",
        "elif rating <=2 and popularity < 50:\n",
        "        print(\"Dont watch it,It is a waste of time.\")\n",
        "\n"
      ]
    }
  ]
}